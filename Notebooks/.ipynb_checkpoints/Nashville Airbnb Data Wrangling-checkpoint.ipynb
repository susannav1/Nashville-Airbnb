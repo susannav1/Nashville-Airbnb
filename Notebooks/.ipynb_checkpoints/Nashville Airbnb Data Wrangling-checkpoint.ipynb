{
 "cells": [
  {
   "cell_type": "code",
   "execution_count": 1,
   "id": "fdb7a611",
   "metadata": {},
   "outputs": [],
   "source": [
    "import pandas as pd\n",
    "import matplotlib.pyplot as plt\n",
    "import seaborn as sns\n",
    "import numpy as np\n",
    "import os"
   ]
  },
  {
   "cell_type": "code",
   "execution_count": 2,
   "id": "a33d4144",
   "metadata": {},
   "outputs": [
    {
     "data": {
      "text/html": [
       "<div>\n",
       "<style scoped>\n",
       "    .dataframe tbody tr th:only-of-type {\n",
       "        vertical-align: middle;\n",
       "    }\n",
       "\n",
       "    .dataframe tbody tr th {\n",
       "        vertical-align: top;\n",
       "    }\n",
       "\n",
       "    .dataframe thead th {\n",
       "        text-align: right;\n",
       "    }\n",
       "</style>\n",
       "<table border=\"1\" class=\"dataframe\">\n",
       "  <thead>\n",
       "    <tr style=\"text-align: right;\">\n",
       "      <th></th>\n",
       "      <th>id</th>\n",
       "      <th>listing_url</th>\n",
       "      <th>scrape_id</th>\n",
       "      <th>last_scraped</th>\n",
       "      <th>source</th>\n",
       "      <th>name</th>\n",
       "      <th>description</th>\n",
       "      <th>neighborhood_overview</th>\n",
       "      <th>picture_url</th>\n",
       "      <th>host_id</th>\n",
       "      <th>...</th>\n",
       "      <th>review_scores_communication</th>\n",
       "      <th>review_scores_location</th>\n",
       "      <th>review_scores_value</th>\n",
       "      <th>license</th>\n",
       "      <th>instant_bookable</th>\n",
       "      <th>calculated_host_listings_count</th>\n",
       "      <th>calculated_host_listings_count_entire_homes</th>\n",
       "      <th>calculated_host_listings_count_private_rooms</th>\n",
       "      <th>calculated_host_listings_count_shared_rooms</th>\n",
       "      <th>reviews_per_month</th>\n",
       "    </tr>\n",
       "  </thead>\n",
       "  <tbody>\n",
       "    <tr>\n",
       "      <th>0</th>\n",
       "      <td>6422</td>\n",
       "      <td>https://www.airbnb.com/rooms/6422</td>\n",
       "      <td>20221221170309</td>\n",
       "      <td>2022-12-22</td>\n",
       "      <td>city scrape</td>\n",
       "      <td>Nashville Charm</td>\n",
       "      <td>30 day or more rental during COVID. Show COVID...</td>\n",
       "      <td>Historic East Nashville is home to many new an...</td>\n",
       "      <td>https://a0.muscache.com/pictures/pro_photo_too...</td>\n",
       "      <td>12172</td>\n",
       "      <td>...</td>\n",
       "      <td>4.96</td>\n",
       "      <td>4.92</td>\n",
       "      <td>4.98</td>\n",
       "      <td>NaN</td>\n",
       "      <td>f</td>\n",
       "      <td>1</td>\n",
       "      <td>0</td>\n",
       "      <td>1</td>\n",
       "      <td>0</td>\n",
       "      <td>4.06</td>\n",
       "    </tr>\n",
       "    <tr>\n",
       "      <th>1</th>\n",
       "      <td>59576</td>\n",
       "      <td>https://www.airbnb.com/rooms/59576</td>\n",
       "      <td>20221221170309</td>\n",
       "      <td>2022-12-21</td>\n",
       "      <td>city scrape</td>\n",
       "      <td>Large Main Suite near Lake *ladies only NS plz</td>\n",
       "      <td>non-smokers only please&lt;br /&gt;&lt;br /&gt;furnished r...</td>\n",
       "      <td>We live on a cul-de-sac in a small community o...</td>\n",
       "      <td>https://a0.muscache.com/pictures/4e4e34db-3155...</td>\n",
       "      <td>812128</td>\n",
       "      <td>...</td>\n",
       "      <td>5.00</td>\n",
       "      <td>5.00</td>\n",
       "      <td>5.00</td>\n",
       "      <td>NaN</td>\n",
       "      <td>f</td>\n",
       "      <td>10</td>\n",
       "      <td>1</td>\n",
       "      <td>9</td>\n",
       "      <td>0</td>\n",
       "      <td>0.34</td>\n",
       "    </tr>\n",
       "    <tr>\n",
       "      <th>2</th>\n",
       "      <td>72906</td>\n",
       "      <td>https://www.airbnb.com/rooms/72906</td>\n",
       "      <td>20221221170309</td>\n",
       "      <td>2022-12-21</td>\n",
       "      <td>city scrape</td>\n",
       "      <td>Vandy/Belmont/10 mins to Broadway - Sunny 800 ...</td>\n",
       "      <td>Entire top floor. Private. 800 sq ft of bright...</td>\n",
       "      <td>Historic Belmont-Hillsboro neighborhood. Walk-...</td>\n",
       "      <td>https://a0.muscache.com/pictures/58602855/3788...</td>\n",
       "      <td>176117</td>\n",
       "      <td>...</td>\n",
       "      <td>4.99</td>\n",
       "      <td>4.96</td>\n",
       "      <td>4.89</td>\n",
       "      <td>NaN</td>\n",
       "      <td>f</td>\n",
       "      <td>1</td>\n",
       "      <td>1</td>\n",
       "      <td>0</td>\n",
       "      <td>0</td>\n",
       "      <td>4.76</td>\n",
       "    </tr>\n",
       "    <tr>\n",
       "      <th>3</th>\n",
       "      <td>319705</td>\n",
       "      <td>https://www.airbnb.com/rooms/319705</td>\n",
       "      <td>20221221170309</td>\n",
       "      <td>2022-12-21</td>\n",
       "      <td>city scrape</td>\n",
       "      <td>SuperSweetSTUDIO, jacuzzi, open Nov 23, 6 mo</td>\n",
       "      <td>Huge fully furnished private room /studio apar...</td>\n",
       "      <td>I'm  very near the Percy Priest Lake, natural ...</td>\n",
       "      <td>https://a0.muscache.com/pictures/3470453/c7d82...</td>\n",
       "      <td>22296</td>\n",
       "      <td>...</td>\n",
       "      <td>4.68</td>\n",
       "      <td>4.62</td>\n",
       "      <td>4.57</td>\n",
       "      <td>NaN</td>\n",
       "      <td>f</td>\n",
       "      <td>8</td>\n",
       "      <td>0</td>\n",
       "      <td>7</td>\n",
       "      <td>1</td>\n",
       "      <td>0.36</td>\n",
       "    </tr>\n",
       "    <tr>\n",
       "      <th>4</th>\n",
       "      <td>289242</td>\n",
       "      <td>https://www.airbnb.com/rooms/289242</td>\n",
       "      <td>20221221170309</td>\n",
       "      <td>2022-12-21</td>\n",
       "      <td>city scrape</td>\n",
       "      <td>MorningstarHouse, monthly room- open Aug 19</td>\n",
       "      <td>Morningstar House! Extended stay - price reduc...</td>\n",
       "      <td>The Morningstar House is in a quiet cul-de-sac...</td>\n",
       "      <td>https://a0.muscache.com/pictures/40a7ab72-20f7...</td>\n",
       "      <td>22296</td>\n",
       "      <td>...</td>\n",
       "      <td>4.78</td>\n",
       "      <td>4.47</td>\n",
       "      <td>4.69</td>\n",
       "      <td>NaN</td>\n",
       "      <td>f</td>\n",
       "      <td>8</td>\n",
       "      <td>0</td>\n",
       "      <td>7</td>\n",
       "      <td>1</td>\n",
       "      <td>0.57</td>\n",
       "    </tr>\n",
       "  </tbody>\n",
       "</table>\n",
       "<p>5 rows × 75 columns</p>\n",
       "</div>"
      ],
      "text/plain": [
       "       id                          listing_url       scrape_id last_scraped  \\\n",
       "0    6422    https://www.airbnb.com/rooms/6422  20221221170309   2022-12-22   \n",
       "1   59576   https://www.airbnb.com/rooms/59576  20221221170309   2022-12-21   \n",
       "2   72906   https://www.airbnb.com/rooms/72906  20221221170309   2022-12-21   \n",
       "3  319705  https://www.airbnb.com/rooms/319705  20221221170309   2022-12-21   \n",
       "4  289242  https://www.airbnb.com/rooms/289242  20221221170309   2022-12-21   \n",
       "\n",
       "        source                                               name  \\\n",
       "0  city scrape                                    Nashville Charm   \n",
       "1  city scrape     Large Main Suite near Lake *ladies only NS plz   \n",
       "2  city scrape  Vandy/Belmont/10 mins to Broadway - Sunny 800 ...   \n",
       "3  city scrape       SuperSweetSTUDIO, jacuzzi, open Nov 23, 6 mo   \n",
       "4  city scrape        MorningstarHouse, monthly room- open Aug 19   \n",
       "\n",
       "                                         description  \\\n",
       "0  30 day or more rental during COVID. Show COVID...   \n",
       "1  non-smokers only please<br /><br />furnished r...   \n",
       "2  Entire top floor. Private. 800 sq ft of bright...   \n",
       "3  Huge fully furnished private room /studio apar...   \n",
       "4  Morningstar House! Extended stay - price reduc...   \n",
       "\n",
       "                               neighborhood_overview  \\\n",
       "0  Historic East Nashville is home to many new an...   \n",
       "1  We live on a cul-de-sac in a small community o...   \n",
       "2  Historic Belmont-Hillsboro neighborhood. Walk-...   \n",
       "3  I'm  very near the Percy Priest Lake, natural ...   \n",
       "4  The Morningstar House is in a quiet cul-de-sac...   \n",
       "\n",
       "                                         picture_url  host_id  ...  \\\n",
       "0  https://a0.muscache.com/pictures/pro_photo_too...    12172  ...   \n",
       "1  https://a0.muscache.com/pictures/4e4e34db-3155...   812128  ...   \n",
       "2  https://a0.muscache.com/pictures/58602855/3788...   176117  ...   \n",
       "3  https://a0.muscache.com/pictures/3470453/c7d82...    22296  ...   \n",
       "4  https://a0.muscache.com/pictures/40a7ab72-20f7...    22296  ...   \n",
       "\n",
       "  review_scores_communication review_scores_location review_scores_value  \\\n",
       "0                        4.96                   4.92                4.98   \n",
       "1                        5.00                   5.00                5.00   \n",
       "2                        4.99                   4.96                4.89   \n",
       "3                        4.68                   4.62                4.57   \n",
       "4                        4.78                   4.47                4.69   \n",
       "\n",
       "  license instant_bookable calculated_host_listings_count  \\\n",
       "0     NaN                f                              1   \n",
       "1     NaN                f                             10   \n",
       "2     NaN                f                              1   \n",
       "3     NaN                f                              8   \n",
       "4     NaN                f                              8   \n",
       "\n",
       "  calculated_host_listings_count_entire_homes  \\\n",
       "0                                           0   \n",
       "1                                           1   \n",
       "2                                           1   \n",
       "3                                           0   \n",
       "4                                           0   \n",
       "\n",
       "  calculated_host_listings_count_private_rooms  \\\n",
       "0                                            1   \n",
       "1                                            9   \n",
       "2                                            0   \n",
       "3                                            7   \n",
       "4                                            7   \n",
       "\n",
       "  calculated_host_listings_count_shared_rooms reviews_per_month  \n",
       "0                                           0              4.06  \n",
       "1                                           0              0.34  \n",
       "2                                           0              4.76  \n",
       "3                                           1              0.36  \n",
       "4                                           1              0.57  \n",
       "\n",
       "[5 rows x 75 columns]"
      ]
     },
     "execution_count": 2,
     "metadata": {},
     "output_type": "execute_result"
    }
   ],
   "source": [
    "# import full dataset\n",
    "listings = pd.read_csv('../raw_data/listings.csv')\n",
    "listings.head()"
   ]
  },
  {
   "cell_type": "code",
   "execution_count": 3,
   "id": "ef7dfe4f",
   "metadata": {},
   "outputs": [
    {
     "data": {
      "text/plain": [
       "Index(['id', 'listing_url', 'scrape_id', 'last_scraped', 'source', 'name',\n",
       "       'description', 'neighborhood_overview', 'picture_url', 'host_id',\n",
       "       'host_url', 'host_name', 'host_since', 'host_location', 'host_about',\n",
       "       'host_response_time', 'host_response_rate', 'host_acceptance_rate',\n",
       "       'host_is_superhost', 'host_thumbnail_url', 'host_picture_url',\n",
       "       'host_neighbourhood', 'host_listings_count',\n",
       "       'host_total_listings_count', 'host_verifications',\n",
       "       'host_has_profile_pic', 'host_identity_verified', 'neighbourhood',\n",
       "       'neighbourhood_cleansed', 'neighbourhood_group_cleansed', 'latitude',\n",
       "       'longitude', 'property_type', 'room_type', 'accommodates', 'bathrooms',\n",
       "       'bathrooms_text', 'bedrooms', 'beds', 'amenities', 'price',\n",
       "       'minimum_nights', 'maximum_nights', 'minimum_minimum_nights',\n",
       "       'maximum_minimum_nights', 'minimum_maximum_nights',\n",
       "       'maximum_maximum_nights', 'minimum_nights_avg_ntm',\n",
       "       'maximum_nights_avg_ntm', 'calendar_updated', 'has_availability',\n",
       "       'availability_30', 'availability_60', 'availability_90',\n",
       "       'availability_365', 'calendar_last_scraped', 'number_of_reviews',\n",
       "       'number_of_reviews_ltm', 'number_of_reviews_l30d', 'first_review',\n",
       "       'last_review', 'review_scores_rating', 'review_scores_accuracy',\n",
       "       'review_scores_cleanliness', 'review_scores_checkin',\n",
       "       'review_scores_communication', 'review_scores_location',\n",
       "       'review_scores_value', 'license', 'instant_bookable',\n",
       "       'calculated_host_listings_count',\n",
       "       'calculated_host_listings_count_entire_homes',\n",
       "       'calculated_host_listings_count_private_rooms',\n",
       "       'calculated_host_listings_count_shared_rooms', 'reviews_per_month'],\n",
       "      dtype='object')"
      ]
     },
     "execution_count": 3,
     "metadata": {},
     "output_type": "execute_result"
    }
   ],
   "source": [
    "listings.columns"
   ]
  },
  {
   "cell_type": "code",
   "execution_count": 4,
   "id": "ce04339e",
   "metadata": {},
   "outputs": [
    {
     "data": {
      "text/html": [
       "<div>\n",
       "<style scoped>\n",
       "    .dataframe tbody tr th:only-of-type {\n",
       "        vertical-align: middle;\n",
       "    }\n",
       "\n",
       "    .dataframe tbody tr th {\n",
       "        vertical-align: top;\n",
       "    }\n",
       "\n",
       "    .dataframe thead th {\n",
       "        text-align: right;\n",
       "    }\n",
       "</style>\n",
       "<table border=\"1\" class=\"dataframe\">\n",
       "  <thead>\n",
       "    <tr style=\"text-align: right;\">\n",
       "      <th></th>\n",
       "      <th>name</th>\n",
       "      <th>price</th>\n",
       "      <th>neighbourhood_cleansed</th>\n",
       "      <th>room_type</th>\n",
       "      <th>minimum_nights</th>\n",
       "      <th>accommodates</th>\n",
       "      <th>bathrooms_text</th>\n",
       "      <th>bedrooms</th>\n",
       "      <th>beds</th>\n",
       "    </tr>\n",
       "  </thead>\n",
       "  <tbody>\n",
       "    <tr>\n",
       "      <th>0</th>\n",
       "      <td>Nashville Charm</td>\n",
       "      <td>$40.00</td>\n",
       "      <td>District 6</td>\n",
       "      <td>Private room</td>\n",
       "      <td>30</td>\n",
       "      <td>2</td>\n",
       "      <td>1 private bath</td>\n",
       "      <td>2.0</td>\n",
       "      <td>3.0</td>\n",
       "    </tr>\n",
       "    <tr>\n",
       "      <th>1</th>\n",
       "      <td>Large Main Suite near Lake *ladies only NS plz</td>\n",
       "      <td>$45.00</td>\n",
       "      <td>District 12</td>\n",
       "      <td>Private room</td>\n",
       "      <td>30</td>\n",
       "      <td>1</td>\n",
       "      <td>1 private bath</td>\n",
       "      <td>1.0</td>\n",
       "      <td>1.0</td>\n",
       "    </tr>\n",
       "    <tr>\n",
       "      <th>2</th>\n",
       "      <td>Vandy/Belmont/10 mins to Broadway - Sunny 800 ...</td>\n",
       "      <td>$90.00</td>\n",
       "      <td>District 18</td>\n",
       "      <td>Entire home/apt</td>\n",
       "      <td>2</td>\n",
       "      <td>4</td>\n",
       "      <td>1 bath</td>\n",
       "      <td>2.0</td>\n",
       "      <td>2.0</td>\n",
       "    </tr>\n",
       "    <tr>\n",
       "      <th>3</th>\n",
       "      <td>SuperSweetSTUDIO, jacuzzi, open Nov 23, 6 mo</td>\n",
       "      <td>$39.00</td>\n",
       "      <td>District 12</td>\n",
       "      <td>Private room</td>\n",
       "      <td>30</td>\n",
       "      <td>3</td>\n",
       "      <td>1 private bath</td>\n",
       "      <td>1.0</td>\n",
       "      <td>5.0</td>\n",
       "    </tr>\n",
       "    <tr>\n",
       "      <th>4</th>\n",
       "      <td>MorningstarHouse, monthly room- open Aug 19</td>\n",
       "      <td>$33.00</td>\n",
       "      <td>District 12</td>\n",
       "      <td>Private room</td>\n",
       "      <td>30</td>\n",
       "      <td>1</td>\n",
       "      <td>1 shared bath</td>\n",
       "      <td>1.0</td>\n",
       "      <td>3.0</td>\n",
       "    </tr>\n",
       "  </tbody>\n",
       "</table>\n",
       "</div>"
      ],
      "text/plain": [
       "                                                name   price  \\\n",
       "0                                    Nashville Charm  $40.00   \n",
       "1     Large Main Suite near Lake *ladies only NS plz  $45.00   \n",
       "2  Vandy/Belmont/10 mins to Broadway - Sunny 800 ...  $90.00   \n",
       "3       SuperSweetSTUDIO, jacuzzi, open Nov 23, 6 mo  $39.00   \n",
       "4        MorningstarHouse, monthly room- open Aug 19  $33.00   \n",
       "\n",
       "  neighbourhood_cleansed        room_type  minimum_nights  accommodates  \\\n",
       "0             District 6     Private room              30             2   \n",
       "1            District 12     Private room              30             1   \n",
       "2            District 18  Entire home/apt               2             4   \n",
       "3            District 12     Private room              30             3   \n",
       "4            District 12     Private room              30             1   \n",
       "\n",
       "   bathrooms_text  bedrooms  beds  \n",
       "0  1 private bath       2.0   3.0  \n",
       "1  1 private bath       1.0   1.0  \n",
       "2          1 bath       2.0   2.0  \n",
       "3  1 private bath       1.0   5.0  \n",
       "4   1 shared bath       1.0   3.0  "
      ]
     },
     "execution_count": 4,
     "metadata": {},
     "output_type": "execute_result"
    }
   ],
   "source": [
    "#subsetting the listings columns only by the features of the house \n",
    "features = listings[['name', 'price', 'neighbourhood_cleansed', 'room_type', 'minimum_nights', 'accommodates', 'bathrooms_text', 'bedrooms', 'beds']]\n",
    "features.head()\n"
   ]
  },
  {
   "cell_type": "markdown",
   "id": "94754e5c",
   "metadata": {},
   "source": [
    "CLEANING PRICE"
   ]
  },
  {
   "cell_type": "code",
   "execution_count": 5,
   "id": "13ee6ae3",
   "metadata": {},
   "outputs": [
    {
     "data": {
      "text/plain": [
       "dtype('O')"
      ]
     },
     "execution_count": 5,
     "metadata": {},
     "output_type": "execute_result"
    }
   ],
   "source": [
    "#remove dollar sign from price column and make into a \n",
    "features['price'].dtype"
   ]
  },
  {
   "cell_type": "code",
   "execution_count": 6,
   "id": "561cc5ac",
   "metadata": {},
   "outputs": [
    {
     "name": "stderr",
     "output_type": "stream",
     "text": [
      "<ipython-input-6-f791b09ff76a>:1: SettingWithCopyWarning: \n",
      "A value is trying to be set on a copy of a slice from a DataFrame.\n",
      "Try using .loc[row_indexer,col_indexer] = value instead\n",
      "\n",
      "See the caveats in the documentation: https://pandas.pydata.org/pandas-docs/stable/user_guide/indexing.html#returning-a-view-versus-a-copy\n",
      "  features['price'] = features['price'].apply(lambda x: float(x.split()[0].replace('$', '').replace(',','')))\n"
     ]
    }
   ],
   "source": [
    "features['price'] = features['price'].apply(lambda x: float(x.split()[0].replace('$', '').replace(',','')))\n",
    "\n"
   ]
  },
  {
   "cell_type": "code",
   "execution_count": 7,
   "id": "41a39a6b",
   "metadata": {},
   "outputs": [
    {
     "data": {
      "text/plain": [
       "dtype('float64')"
      ]
     },
     "execution_count": 7,
     "metadata": {},
     "output_type": "execute_result"
    }
   ],
   "source": [
    "features['price'].dtype"
   ]
  },
  {
   "cell_type": "code",
   "execution_count": 8,
   "id": "fffe913e",
   "metadata": {},
   "outputs": [
    {
     "data": {
      "text/html": [
       "<div>\n",
       "<style scoped>\n",
       "    .dataframe tbody tr th:only-of-type {\n",
       "        vertical-align: middle;\n",
       "    }\n",
       "\n",
       "    .dataframe tbody tr th {\n",
       "        vertical-align: top;\n",
       "    }\n",
       "\n",
       "    .dataframe thead th {\n",
       "        text-align: right;\n",
       "    }\n",
       "</style>\n",
       "<table border=\"1\" class=\"dataframe\">\n",
       "  <thead>\n",
       "    <tr style=\"text-align: right;\">\n",
       "      <th></th>\n",
       "      <th>name</th>\n",
       "      <th>price</th>\n",
       "      <th>neighbourhood_cleansed</th>\n",
       "      <th>room_type</th>\n",
       "      <th>minimum_nights</th>\n",
       "      <th>accommodates</th>\n",
       "      <th>bathrooms_text</th>\n",
       "      <th>bedrooms</th>\n",
       "      <th>beds</th>\n",
       "    </tr>\n",
       "  </thead>\n",
       "  <tbody>\n",
       "    <tr>\n",
       "      <th>4006</th>\n",
       "      <td>Hotel Preston</td>\n",
       "      <td>0.0</td>\n",
       "      <td>District 13</td>\n",
       "      <td>Hotel room</td>\n",
       "      <td>1</td>\n",
       "      <td>0</td>\n",
       "      <td>NaN</td>\n",
       "      <td>NaN</td>\n",
       "      <td>NaN</td>\n",
       "    </tr>\n",
       "  </tbody>\n",
       "</table>\n",
       "</div>"
      ],
      "text/plain": [
       "               name  price neighbourhood_cleansed   room_type  minimum_nights  \\\n",
       "4006  Hotel Preston    0.0            District 13  Hotel room               1   \n",
       "\n",
       "      accommodates bathrooms_text  bedrooms  beds  \n",
       "4006             0            NaN       NaN   NaN  "
      ]
     },
     "execution_count": 8,
     "metadata": {},
     "output_type": "execute_result"
    }
   ],
   "source": [
    "#find rows with a zero price value and drop... not useful without it \n",
    "zero_price = features[features['price'] == 0.0]\n",
    "zero_price"
   ]
  },
  {
   "cell_type": "code",
   "execution_count": 9,
   "id": "babb99e3",
   "metadata": {},
   "outputs": [
    {
     "name": "stderr",
     "output_type": "stream",
     "text": [
      "/Users/susannavinoba/opt/anaconda3/lib/python3.8/site-packages/pandas/core/frame.py:4308: SettingWithCopyWarning: \n",
      "A value is trying to be set on a copy of a slice from a DataFrame\n",
      "\n",
      "See the caveats in the documentation: https://pandas.pydata.org/pandas-docs/stable/user_guide/indexing.html#returning-a-view-versus-a-copy\n",
      "  return super().drop(\n"
     ]
    }
   ],
   "source": [
    "features.drop(index= 4006, inplace=True)"
   ]
  },
  {
   "cell_type": "code",
   "execution_count": 10,
   "id": "f733cf65",
   "metadata": {},
   "outputs": [
    {
     "data": {
      "text/html": [
       "<div>\n",
       "<style scoped>\n",
       "    .dataframe tbody tr th:only-of-type {\n",
       "        vertical-align: middle;\n",
       "    }\n",
       "\n",
       "    .dataframe tbody tr th {\n",
       "        vertical-align: top;\n",
       "    }\n",
       "\n",
       "    .dataframe thead th {\n",
       "        text-align: right;\n",
       "    }\n",
       "</style>\n",
       "<table border=\"1\" class=\"dataframe\">\n",
       "  <thead>\n",
       "    <tr style=\"text-align: right;\">\n",
       "      <th></th>\n",
       "      <th>name</th>\n",
       "      <th>price</th>\n",
       "      <th>neighbourhood_cleansed</th>\n",
       "      <th>room_type</th>\n",
       "      <th>minimum_nights</th>\n",
       "      <th>accommodates</th>\n",
       "      <th>bathrooms_text</th>\n",
       "      <th>bedrooms</th>\n",
       "      <th>beds</th>\n",
       "    </tr>\n",
       "  </thead>\n",
       "  <tbody>\n",
       "  </tbody>\n",
       "</table>\n",
       "</div>"
      ],
      "text/plain": [
       "Empty DataFrame\n",
       "Columns: [name, price, neighbourhood_cleansed, room_type, minimum_nights, accommodates, bathrooms_text, bedrooms, beds]\n",
       "Index: []"
      ]
     },
     "execution_count": 10,
     "metadata": {},
     "output_type": "execute_result"
    }
   ],
   "source": [
    "#check if dropped\n",
    "features[features['price'] == 0.0]"
   ]
  },
  {
   "cell_type": "code",
   "execution_count": 11,
   "id": "8f3daaed",
   "metadata": {},
   "outputs": [
    {
     "data": {
      "text/html": [
       "<div>\n",
       "<style scoped>\n",
       "    .dataframe tbody tr th:only-of-type {\n",
       "        vertical-align: middle;\n",
       "    }\n",
       "\n",
       "    .dataframe tbody tr th {\n",
       "        vertical-align: top;\n",
       "    }\n",
       "\n",
       "    .dataframe thead th {\n",
       "        text-align: right;\n",
       "    }\n",
       "</style>\n",
       "<table border=\"1\" class=\"dataframe\">\n",
       "  <thead>\n",
       "    <tr style=\"text-align: right;\">\n",
       "      <th></th>\n",
       "      <th>name</th>\n",
       "      <th>price</th>\n",
       "      <th>neighbourhood_cleansed</th>\n",
       "      <th>room_type</th>\n",
       "      <th>minimum_nights</th>\n",
       "      <th>accommodates</th>\n",
       "      <th>bathrooms_text</th>\n",
       "      <th>bedrooms</th>\n",
       "      <th>beds</th>\n",
       "    </tr>\n",
       "  </thead>\n",
       "  <tbody>\n",
       "  </tbody>\n",
       "</table>\n",
       "</div>"
      ],
      "text/plain": [
       "Empty DataFrame\n",
       "Columns: [name, price, neighbourhood_cleansed, room_type, minimum_nights, accommodates, bathrooms_text, bedrooms, beds]\n",
       "Index: []"
      ]
     },
     "execution_count": 11,
     "metadata": {},
     "output_type": "execute_result"
    }
   ],
   "source": [
    "#find rows with a null price value and drop... not useful without it\n",
    "null_price = features[features['price'] == 0.0]\n",
    "null_price"
   ]
  },
  {
   "cell_type": "markdown",
   "id": "80a3475e",
   "metadata": {},
   "source": [
    "BATHROOM TEXT CLEANING "
   ]
  },
  {
   "cell_type": "code",
   "execution_count": 12,
   "id": "01f4aaf6",
   "metadata": {},
   "outputs": [
    {
     "data": {
      "text/plain": [
       "array(['1 private bath', '1 bath', '1 shared bath', '2.5 baths',\n",
       "       '2 baths', '1.5 baths', '3 baths', '3.5 baths', '4 baths',\n",
       "       '4.5 baths', '1.5 shared baths', '7 baths', '3.5 shared baths',\n",
       "       '5.5 baths', '8 baths', '0 baths', '2.5 shared baths', 'Half-bath',\n",
       "       '6 baths', '5 baths', '2 shared baths', '9.5 baths', '7.5 baths',\n",
       "       'Private half-bath', '14 baths', '3 shared baths', '6.5 baths',\n",
       "       '9 baths', '19 baths', nan, '12 baths', '16 baths', '17 baths',\n",
       "       '10.5 baths', '4 shared baths', '12.5 baths', '18 baths',\n",
       "       '13.5 baths', '8.5 baths', '17.5 baths'], dtype=object)"
      ]
     },
     "execution_count": 12,
     "metadata": {},
     "output_type": "execute_result"
    }
   ],
   "source": [
    "#unique bathroom text \n",
    "features['bathrooms_text'].unique()"
   ]
  },
  {
   "cell_type": "code",
   "execution_count": 13,
   "id": "ba9feca2",
   "metadata": {},
   "outputs": [
    {
     "name": "stderr",
     "output_type": "stream",
     "text": [
      "/Users/susannavinoba/opt/anaconda3/lib/python3.8/site-packages/pandas/core/indexing.py:1720: SettingWithCopyWarning: \n",
      "A value is trying to be set on a copy of a slice from a DataFrame.\n",
      "Try using .loc[row_indexer,col_indexer] = value instead\n",
      "\n",
      "See the caveats in the documentation: https://pandas.pydata.org/pandas-docs/stable/user_guide/indexing.html#returning-a-view-versus-a-copy\n",
      "  self._setitem_single_column(loc, value, pi)\n"
     ]
    }
   ],
   "source": [
    "#We are going to split bathroom_text into two columns one numeric/ float the other categorical \n",
    "\n",
    "#first normalize the values that are not 'number space bath_type'\n",
    "features.loc[features['bathrooms_text'] == 'Half-bath', 'bathrooms_text'] = '0.5 bath'\n",
    "features.loc[features['bathrooms_text'] == 'Private half-bath', 'bathrooms_text'] = '0.5 private bath'"
   ]
  },
  {
   "cell_type": "code",
   "execution_count": 14,
   "id": "22e907b4",
   "metadata": {},
   "outputs": [
    {
     "name": "stderr",
     "output_type": "stream",
     "text": [
      "/Users/susannavinoba/opt/anaconda3/lib/python3.8/site-packages/pandas/core/frame.py:3191: SettingWithCopyWarning: \n",
      "A value is trying to be set on a copy of a slice from a DataFrame.\n",
      "Try using .loc[row_indexer,col_indexer] = value instead\n",
      "\n",
      "See the caveats in the documentation: https://pandas.pydata.org/pandas-docs/stable/user_guide/indexing.html#returning-a-view-versus-a-copy\n",
      "  self[k1] = value[k2]\n"
     ]
    },
    {
     "data": {
      "text/html": [
       "<div>\n",
       "<style scoped>\n",
       "    .dataframe tbody tr th:only-of-type {\n",
       "        vertical-align: middle;\n",
       "    }\n",
       "\n",
       "    .dataframe tbody tr th {\n",
       "        vertical-align: top;\n",
       "    }\n",
       "\n",
       "    .dataframe thead th {\n",
       "        text-align: right;\n",
       "    }\n",
       "</style>\n",
       "<table border=\"1\" class=\"dataframe\">\n",
       "  <thead>\n",
       "    <tr style=\"text-align: right;\">\n",
       "      <th></th>\n",
       "      <th>name</th>\n",
       "      <th>price</th>\n",
       "      <th>neighbourhood_cleansed</th>\n",
       "      <th>room_type</th>\n",
       "      <th>minimum_nights</th>\n",
       "      <th>accommodates</th>\n",
       "      <th>bathrooms_text</th>\n",
       "      <th>bedrooms</th>\n",
       "      <th>beds</th>\n",
       "      <th>bathroom_count</th>\n",
       "      <th>bathroom_type</th>\n",
       "    </tr>\n",
       "  </thead>\n",
       "  <tbody>\n",
       "    <tr>\n",
       "      <th>0</th>\n",
       "      <td>Nashville Charm</td>\n",
       "      <td>40.0</td>\n",
       "      <td>District 6</td>\n",
       "      <td>Private room</td>\n",
       "      <td>30</td>\n",
       "      <td>2</td>\n",
       "      <td>1 private bath</td>\n",
       "      <td>2.0</td>\n",
       "      <td>3.0</td>\n",
       "      <td>1</td>\n",
       "      <td>private bath</td>\n",
       "    </tr>\n",
       "    <tr>\n",
       "      <th>1</th>\n",
       "      <td>Large Main Suite near Lake *ladies only NS plz</td>\n",
       "      <td>45.0</td>\n",
       "      <td>District 12</td>\n",
       "      <td>Private room</td>\n",
       "      <td>30</td>\n",
       "      <td>1</td>\n",
       "      <td>1 private bath</td>\n",
       "      <td>1.0</td>\n",
       "      <td>1.0</td>\n",
       "      <td>1</td>\n",
       "      <td>private bath</td>\n",
       "    </tr>\n",
       "    <tr>\n",
       "      <th>2</th>\n",
       "      <td>Vandy/Belmont/10 mins to Broadway - Sunny 800 ...</td>\n",
       "      <td>90.0</td>\n",
       "      <td>District 18</td>\n",
       "      <td>Entire home/apt</td>\n",
       "      <td>2</td>\n",
       "      <td>4</td>\n",
       "      <td>1 bath</td>\n",
       "      <td>2.0</td>\n",
       "      <td>2.0</td>\n",
       "      <td>1</td>\n",
       "      <td>bath</td>\n",
       "    </tr>\n",
       "    <tr>\n",
       "      <th>3</th>\n",
       "      <td>SuperSweetSTUDIO, jacuzzi, open Nov 23, 6 mo</td>\n",
       "      <td>39.0</td>\n",
       "      <td>District 12</td>\n",
       "      <td>Private room</td>\n",
       "      <td>30</td>\n",
       "      <td>3</td>\n",
       "      <td>1 private bath</td>\n",
       "      <td>1.0</td>\n",
       "      <td>5.0</td>\n",
       "      <td>1</td>\n",
       "      <td>private bath</td>\n",
       "    </tr>\n",
       "  </tbody>\n",
       "</table>\n",
       "</div>"
      ],
      "text/plain": [
       "                                                name  price  \\\n",
       "0                                    Nashville Charm   40.0   \n",
       "1     Large Main Suite near Lake *ladies only NS plz   45.0   \n",
       "2  Vandy/Belmont/10 mins to Broadway - Sunny 800 ...   90.0   \n",
       "3       SuperSweetSTUDIO, jacuzzi, open Nov 23, 6 mo   39.0   \n",
       "\n",
       "  neighbourhood_cleansed        room_type  minimum_nights  accommodates  \\\n",
       "0             District 6     Private room              30             2   \n",
       "1            District 12     Private room              30             1   \n",
       "2            District 18  Entire home/apt               2             4   \n",
       "3            District 12     Private room              30             3   \n",
       "\n",
       "   bathrooms_text  bedrooms  beds bathroom_count bathroom_type  \n",
       "0  1 private bath       2.0   3.0              1  private bath  \n",
       "1  1 private bath       1.0   1.0              1  private bath  \n",
       "2          1 bath       2.0   2.0              1          bath  \n",
       "3  1 private bath       1.0   5.0              1  private bath  "
      ]
     },
     "execution_count": 14,
     "metadata": {},
     "output_type": "execute_result"
    }
   ],
   "source": [
    "#split the columns \n",
    "features[['bathroom_count','bathroom_type']] = features[\"bathrooms_text\"].str.split(\" \", 1, expand=True)\n",
    "features.head(4)"
   ]
  },
  {
   "cell_type": "code",
   "execution_count": 15,
   "id": "e7979ee6",
   "metadata": {},
   "outputs": [
    {
     "name": "stderr",
     "output_type": "stream",
     "text": [
      "/Users/susannavinoba/opt/anaconda3/lib/python3.8/site-packages/pandas/core/frame.py:4308: SettingWithCopyWarning: \n",
      "A value is trying to be set on a copy of a slice from a DataFrame\n",
      "\n",
      "See the caveats in the documentation: https://pandas.pydata.org/pandas-docs/stable/user_guide/indexing.html#returning-a-view-versus-a-copy\n",
      "  return super().drop(\n"
     ]
    }
   ],
   "source": [
    "#drop the bathrooms_text feature as it is repetitive/ not needed anymore\n",
    "features.drop(columns='bathrooms_text', inplace=True)"
   ]
  },
  {
   "cell_type": "code",
   "execution_count": 16,
   "id": "97dec2f8",
   "metadata": {},
   "outputs": [
    {
     "data": {
      "text/plain": [
       "array(['1', '2.5', '2', '1.5', '3', '3.5', '4', '4.5', '7', '5.5', '8',\n",
       "       '0', '0.5', '6', '5', '9.5', '7.5', '14', '6.5', '9', '19', nan,\n",
       "       '12', '16', '17', '10.5', '12.5', '18', '13.5', '8.5', '17.5'],\n",
       "      dtype=object)"
      ]
     },
     "execution_count": 16,
     "metadata": {},
     "output_type": "execute_result"
    }
   ],
   "source": [
    "features['bathroom_count'].unique()"
   ]
  },
  {
   "cell_type": "code",
   "execution_count": null,
   "id": "4c7a2bce",
   "metadata": {},
   "outputs": [],
   "source": []
  },
  {
   "cell_type": "code",
   "execution_count": 17,
   "id": "ab6437fe",
   "metadata": {},
   "outputs": [],
   "source": [
    "#seeing nan and 'Private' total rows\n",
    "#count_remove = ['Private', 'nan']\n",
    "#features = features[features.bathroom_count.isin(count_remove) == False]\n",
    "#features['bathroom_count'].unique()"
   ]
  },
  {
   "cell_type": "code",
   "execution_count": 18,
   "id": "6046d0fe",
   "metadata": {
    "scrolled": true
   },
   "outputs": [
    {
     "name": "stdout",
     "output_type": "stream",
     "text": [
      "<class 'pandas.core.frame.DataFrame'>\n",
      "Int64Index: 8126 entries, 0 to 8126\n",
      "Data columns (total 10 columns):\n",
      " #   Column                  Non-Null Count  Dtype  \n",
      "---  ------                  --------------  -----  \n",
      " 0   name                    8126 non-null   object \n",
      " 1   price                   8126 non-null   float64\n",
      " 2   neighbourhood_cleansed  8126 non-null   object \n",
      " 3   room_type               8126 non-null   object \n",
      " 4   minimum_nights          8126 non-null   int64  \n",
      " 5   accommodates            8126 non-null   int64  \n",
      " 6   bedrooms                7788 non-null   float64\n",
      " 7   beds                    8080 non-null   float64\n",
      " 8   bathroom_count          8124 non-null   float64\n",
      " 9   bathroom_type           8124 non-null   object \n",
      "dtypes: float64(4), int64(2), object(4)\n",
      "memory usage: 698.3+ KB\n"
     ]
    },
    {
     "name": "stderr",
     "output_type": "stream",
     "text": [
      "<ipython-input-18-fbb5dc57ea02>:2: SettingWithCopyWarning: \n",
      "A value is trying to be set on a copy of a slice from a DataFrame.\n",
      "Try using .loc[row_indexer,col_indexer] = value instead\n",
      "\n",
      "See the caveats in the documentation: https://pandas.pydata.org/pandas-docs/stable/user_guide/indexing.html#returning-a-view-versus-a-copy\n",
      "  features['bathroom_count'] = features['bathroom_count'].astype(float)\n"
     ]
    }
   ],
   "source": [
    "#making bathroom count data into float\n",
    "features['bathroom_count'] = features['bathroom_count'].astype(float) \n",
    "features.info()"
   ]
  },
  {
   "cell_type": "code",
   "execution_count": 19,
   "id": "628fc787",
   "metadata": {},
   "outputs": [
    {
     "data": {
      "text/plain": [
       "array(['private bath', 'bath', 'shared bath', 'baths', 'shared baths',\n",
       "       nan], dtype=object)"
      ]
     },
     "execution_count": 19,
     "metadata": {},
     "output_type": "execute_result"
    }
   ],
   "source": [
    "#bathroom_type cleaning \n",
    "features['bathroom_type'].unique()"
   ]
  },
  {
   "cell_type": "code",
   "execution_count": 20,
   "id": "96493d77",
   "metadata": {},
   "outputs": [
    {
     "name": "stderr",
     "output_type": "stream",
     "text": [
      "/Users/susannavinoba/opt/anaconda3/lib/python3.8/site-packages/pandas/core/indexing.py:1720: SettingWithCopyWarning: \n",
      "A value is trying to be set on a copy of a slice from a DataFrame.\n",
      "Try using .loc[row_indexer,col_indexer] = value instead\n",
      "\n",
      "See the caveats in the documentation: https://pandas.pydata.org/pandas-docs/stable/user_guide/indexing.html#returning-a-view-versus-a-copy\n",
      "  self._setitem_single_column(loc, value, pi)\n"
     ]
    },
    {
     "data": {
      "text/plain": [
       "array(['private bath', 'bath', 'shared bath', nan], dtype=object)"
      ]
     },
     "execution_count": 20,
     "metadata": {},
     "output_type": "execute_result"
    }
   ],
   "source": [
    "#combines bath with baths\n",
    "features.loc[features['bathroom_type'] == 'baths', 'bathroom_type'] = 'bath'\n",
    "features.loc[features['bathroom_type'] == 'shared baths', 'bathroom_type'] = 'shared bath'\n",
    "features['bathroom_type'].unique()"
   ]
  },
  {
   "cell_type": "code",
   "execution_count": 21,
   "id": "50d677f8",
   "metadata": {},
   "outputs": [
    {
     "data": {
      "text/html": [
       "<div>\n",
       "<style scoped>\n",
       "    .dataframe tbody tr th:only-of-type {\n",
       "        vertical-align: middle;\n",
       "    }\n",
       "\n",
       "    .dataframe tbody tr th {\n",
       "        vertical-align: top;\n",
       "    }\n",
       "\n",
       "    .dataframe thead th {\n",
       "        text-align: right;\n",
       "    }\n",
       "</style>\n",
       "<table border=\"1\" class=\"dataframe\">\n",
       "  <thead>\n",
       "    <tr style=\"text-align: right;\">\n",
       "      <th></th>\n",
       "      <th>name</th>\n",
       "      <th>price</th>\n",
       "      <th>neighbourhood_cleansed</th>\n",
       "      <th>room_type</th>\n",
       "      <th>minimum_nights</th>\n",
       "      <th>accommodates</th>\n",
       "      <th>bedrooms</th>\n",
       "      <th>beds</th>\n",
       "      <th>bathroom_count</th>\n",
       "      <th>bathroom_type</th>\n",
       "    </tr>\n",
       "  </thead>\n",
       "  <tbody>\n",
       "    <tr>\n",
       "      <th>2472</th>\n",
       "      <td>Nashville Riverfront Lofts - Deluxe Penthouse #9</td>\n",
       "      <td>1364.0</td>\n",
       "      <td>District 19</td>\n",
       "      <td>Entire home/apt</td>\n",
       "      <td>1</td>\n",
       "      <td>9</td>\n",
       "      <td>3.0</td>\n",
       "      <td>4.0</td>\n",
       "      <td>NaN</td>\n",
       "      <td>NaN</td>\n",
       "    </tr>\n",
       "    <tr>\n",
       "      <th>2474</th>\n",
       "      <td>Downtown Nashville!  Market Street Unit #4</td>\n",
       "      <td>215.0</td>\n",
       "      <td>District 19</td>\n",
       "      <td>Entire home/apt</td>\n",
       "      <td>1</td>\n",
       "      <td>2</td>\n",
       "      <td>1.0</td>\n",
       "      <td>1.0</td>\n",
       "      <td>NaN</td>\n",
       "      <td>NaN</td>\n",
       "    </tr>\n",
       "  </tbody>\n",
       "</table>\n",
       "</div>"
      ],
      "text/plain": [
       "                                                  name   price  \\\n",
       "2472  Nashville Riverfront Lofts - Deluxe Penthouse #9  1364.0   \n",
       "2474        Downtown Nashville!  Market Street Unit #4   215.0   \n",
       "\n",
       "     neighbourhood_cleansed        room_type  minimum_nights  accommodates  \\\n",
       "2472            District 19  Entire home/apt               1             9   \n",
       "2474            District 19  Entire home/apt               1             2   \n",
       "\n",
       "      bedrooms  beds  bathroom_count bathroom_type  \n",
       "2472       3.0   4.0             NaN           NaN  \n",
       "2474       1.0   1.0             NaN           NaN  "
      ]
     },
     "execution_count": 21,
     "metadata": {},
     "output_type": "execute_result"
    }
   ],
   "source": [
    "# bathroom_type null values \n",
    "features[features['bathroom_type'].isnull()]"
   ]
  },
  {
   "cell_type": "code",
   "execution_count": 22,
   "id": "a2fe3bba",
   "metadata": {},
   "outputs": [
    {
     "data": {
      "text/html": [
       "<div>\n",
       "<style scoped>\n",
       "    .dataframe tbody tr th:only-of-type {\n",
       "        vertical-align: middle;\n",
       "    }\n",
       "\n",
       "    .dataframe tbody tr th {\n",
       "        vertical-align: top;\n",
       "    }\n",
       "\n",
       "    .dataframe thead th {\n",
       "        text-align: right;\n",
       "    }\n",
       "</style>\n",
       "<table border=\"1\" class=\"dataframe\">\n",
       "  <thead>\n",
       "    <tr style=\"text-align: right;\">\n",
       "      <th></th>\n",
       "      <th>name</th>\n",
       "      <th>price</th>\n",
       "      <th>neighbourhood_cleansed</th>\n",
       "      <th>room_type</th>\n",
       "      <th>minimum_nights</th>\n",
       "      <th>accommodates</th>\n",
       "      <th>bedrooms</th>\n",
       "      <th>beds</th>\n",
       "      <th>bathroom_count</th>\n",
       "      <th>bathroom_type</th>\n",
       "    </tr>\n",
       "  </thead>\n",
       "  <tbody>\n",
       "    <tr>\n",
       "      <th>2472</th>\n",
       "      <td>Nashville Riverfront Lofts - Deluxe Penthouse #9</td>\n",
       "      <td>1364.0</td>\n",
       "      <td>District 19</td>\n",
       "      <td>Entire home/apt</td>\n",
       "      <td>1</td>\n",
       "      <td>9</td>\n",
       "      <td>3.0</td>\n",
       "      <td>4.0</td>\n",
       "      <td>NaN</td>\n",
       "      <td>NaN</td>\n",
       "    </tr>\n",
       "    <tr>\n",
       "      <th>2474</th>\n",
       "      <td>Downtown Nashville!  Market Street Unit #4</td>\n",
       "      <td>215.0</td>\n",
       "      <td>District 19</td>\n",
       "      <td>Entire home/apt</td>\n",
       "      <td>1</td>\n",
       "      <td>2</td>\n",
       "      <td>1.0</td>\n",
       "      <td>1.0</td>\n",
       "      <td>NaN</td>\n",
       "      <td>NaN</td>\n",
       "    </tr>\n",
       "  </tbody>\n",
       "</table>\n",
       "</div>"
      ],
      "text/plain": [
       "                                                  name   price  \\\n",
       "2472  Nashville Riverfront Lofts - Deluxe Penthouse #9  1364.0   \n",
       "2474        Downtown Nashville!  Market Street Unit #4   215.0   \n",
       "\n",
       "     neighbourhood_cleansed        room_type  minimum_nights  accommodates  \\\n",
       "2472            District 19  Entire home/apt               1             9   \n",
       "2474            District 19  Entire home/apt               1             2   \n",
       "\n",
       "      bedrooms  beds  bathroom_count bathroom_type  \n",
       "2472       3.0   4.0             NaN           NaN  \n",
       "2474       1.0   1.0             NaN           NaN  "
      ]
     },
     "execution_count": 22,
     "metadata": {},
     "output_type": "execute_result"
    }
   ],
   "source": [
    "# bathroom_count null values \n",
    "features[features['bathroom_count'].isnull()]"
   ]
  },
  {
   "cell_type": "code",
   "execution_count": 23,
   "id": "a7bfd949",
   "metadata": {},
   "outputs": [
    {
     "name": "stderr",
     "output_type": "stream",
     "text": [
      "/Users/susannavinoba/opt/anaconda3/lib/python3.8/site-packages/pandas/core/indexing.py:1720: SettingWithCopyWarning: \n",
      "A value is trying to be set on a copy of a slice from a DataFrame.\n",
      "Try using .loc[row_indexer,col_indexer] = value instead\n",
      "\n",
      "See the caveats in the documentation: https://pandas.pydata.org/pandas-docs/stable/user_guide/indexing.html#returning-a-view-versus-a-copy\n",
      "  self._setitem_single_column(loc, value, pi)\n"
     ]
    }
   ],
   "source": [
    "#they are the same values that are null for type... they didn't put in a value change to -1 to denote a weird value\n",
    "features.loc[features['bathroom_count'].isnull(), 'bathroom_count'] = -1"
   ]
  },
  {
   "cell_type": "code",
   "execution_count": 24,
   "id": "626e3f59",
   "metadata": {},
   "outputs": [],
   "source": [
    "#they are the same values that are null for type... they didn't put in a value change to 'N/A' to denote a weird value\n",
    "features.loc[features['bathroom_type'].isnull(), 'bathroom_type'] = 'N/A'"
   ]
  },
  {
   "cell_type": "code",
   "execution_count": 25,
   "id": "a26ca28f",
   "metadata": {},
   "outputs": [
    {
     "data": {
      "text/html": [
       "<div>\n",
       "<style scoped>\n",
       "    .dataframe tbody tr th:only-of-type {\n",
       "        vertical-align: middle;\n",
       "    }\n",
       "\n",
       "    .dataframe tbody tr th {\n",
       "        vertical-align: top;\n",
       "    }\n",
       "\n",
       "    .dataframe thead th {\n",
       "        text-align: right;\n",
       "    }\n",
       "</style>\n",
       "<table border=\"1\" class=\"dataframe\">\n",
       "  <thead>\n",
       "    <tr style=\"text-align: right;\">\n",
       "      <th></th>\n",
       "      <th>name</th>\n",
       "      <th>price</th>\n",
       "      <th>neighbourhood_cleansed</th>\n",
       "      <th>room_type</th>\n",
       "      <th>minimum_nights</th>\n",
       "      <th>accommodates</th>\n",
       "      <th>bedrooms</th>\n",
       "      <th>beds</th>\n",
       "      <th>bathroom_count</th>\n",
       "      <th>bathroom_type</th>\n",
       "    </tr>\n",
       "  </thead>\n",
       "  <tbody>\n",
       "  </tbody>\n",
       "</table>\n",
       "</div>"
      ],
      "text/plain": [
       "Empty DataFrame\n",
       "Columns: [name, price, neighbourhood_cleansed, room_type, minimum_nights, accommodates, bedrooms, beds, bathroom_count, bathroom_type]\n",
       "Index: []"
      ]
     },
     "execution_count": 25,
     "metadata": {},
     "output_type": "execute_result"
    }
   ],
   "source": [
    "#double check if anymore nulls exist\n",
    "features[features['bathroom_count'].isnull()]"
   ]
  },
  {
   "cell_type": "code",
   "execution_count": 26,
   "id": "29e8c79f",
   "metadata": {},
   "outputs": [
    {
     "data": {
      "text/html": [
       "<div>\n",
       "<style scoped>\n",
       "    .dataframe tbody tr th:only-of-type {\n",
       "        vertical-align: middle;\n",
       "    }\n",
       "\n",
       "    .dataframe tbody tr th {\n",
       "        vertical-align: top;\n",
       "    }\n",
       "\n",
       "    .dataframe thead th {\n",
       "        text-align: right;\n",
       "    }\n",
       "</style>\n",
       "<table border=\"1\" class=\"dataframe\">\n",
       "  <thead>\n",
       "    <tr style=\"text-align: right;\">\n",
       "      <th></th>\n",
       "      <th>name</th>\n",
       "      <th>price</th>\n",
       "      <th>neighbourhood_cleansed</th>\n",
       "      <th>room_type</th>\n",
       "      <th>minimum_nights</th>\n",
       "      <th>accommodates</th>\n",
       "      <th>bedrooms</th>\n",
       "      <th>beds</th>\n",
       "      <th>bathroom_count</th>\n",
       "      <th>bathroom_type</th>\n",
       "    </tr>\n",
       "  </thead>\n",
       "  <tbody>\n",
       "  </tbody>\n",
       "</table>\n",
       "</div>"
      ],
      "text/plain": [
       "Empty DataFrame\n",
       "Columns: [name, price, neighbourhood_cleansed, room_type, minimum_nights, accommodates, bedrooms, beds, bathroom_count, bathroom_type]\n",
       "Index: []"
      ]
     },
     "execution_count": 26,
     "metadata": {},
     "output_type": "execute_result"
    }
   ],
   "source": [
    "features[features['bathroom_type'].isnull()]"
   ]
  },
  {
   "cell_type": "markdown",
   "id": "58b7456b",
   "metadata": {},
   "source": [
    "See what other columns have missing values and deal with those NAs"
   ]
  },
  {
   "cell_type": "code",
   "execution_count": 27,
   "id": "0722d424",
   "metadata": {},
   "outputs": [
    {
     "data": {
      "text/html": [
       "<div>\n",
       "<style scoped>\n",
       "    .dataframe tbody tr th:only-of-type {\n",
       "        vertical-align: middle;\n",
       "    }\n",
       "\n",
       "    .dataframe tbody tr th {\n",
       "        vertical-align: top;\n",
       "    }\n",
       "\n",
       "    .dataframe thead th {\n",
       "        text-align: right;\n",
       "    }\n",
       "</style>\n",
       "<table border=\"1\" class=\"dataframe\">\n",
       "  <thead>\n",
       "    <tr style=\"text-align: right;\">\n",
       "      <th></th>\n",
       "      <th>count</th>\n",
       "      <th>%</th>\n",
       "    </tr>\n",
       "  </thead>\n",
       "  <tbody>\n",
       "    <tr>\n",
       "      <th>name</th>\n",
       "      <td>0</td>\n",
       "      <td>0.000000</td>\n",
       "    </tr>\n",
       "    <tr>\n",
       "      <th>price</th>\n",
       "      <td>0</td>\n",
       "      <td>0.000000</td>\n",
       "    </tr>\n",
       "    <tr>\n",
       "      <th>neighbourhood_cleansed</th>\n",
       "      <td>0</td>\n",
       "      <td>0.000000</td>\n",
       "    </tr>\n",
       "    <tr>\n",
       "      <th>room_type</th>\n",
       "      <td>0</td>\n",
       "      <td>0.000000</td>\n",
       "    </tr>\n",
       "    <tr>\n",
       "      <th>minimum_nights</th>\n",
       "      <td>0</td>\n",
       "      <td>0.000000</td>\n",
       "    </tr>\n",
       "    <tr>\n",
       "      <th>accommodates</th>\n",
       "      <td>0</td>\n",
       "      <td>0.000000</td>\n",
       "    </tr>\n",
       "    <tr>\n",
       "      <th>bathroom_count</th>\n",
       "      <td>0</td>\n",
       "      <td>0.000000</td>\n",
       "    </tr>\n",
       "    <tr>\n",
       "      <th>bathroom_type</th>\n",
       "      <td>0</td>\n",
       "      <td>0.000000</td>\n",
       "    </tr>\n",
       "    <tr>\n",
       "      <th>beds</th>\n",
       "      <td>46</td>\n",
       "      <td>0.566084</td>\n",
       "    </tr>\n",
       "    <tr>\n",
       "      <th>bedrooms</th>\n",
       "      <td>338</td>\n",
       "      <td>4.159488</td>\n",
       "    </tr>\n",
       "  </tbody>\n",
       "</table>\n",
       "</div>"
      ],
      "text/plain": [
       "                        count         %\n",
       "name                        0  0.000000\n",
       "price                       0  0.000000\n",
       "neighbourhood_cleansed      0  0.000000\n",
       "room_type                   0  0.000000\n",
       "minimum_nights              0  0.000000\n",
       "accommodates                0  0.000000\n",
       "bathroom_count              0  0.000000\n",
       "bathroom_type               0  0.000000\n",
       "beds                       46  0.566084\n",
       "bedrooms                  338  4.159488"
      ]
     },
     "execution_count": 27,
     "metadata": {},
     "output_type": "execute_result"
    }
   ],
   "source": [
    "#missing values in features \n",
    "missing = pd.concat([features.isnull().sum(), 100 * features.isnull().mean()], axis=1)\n",
    "missing.columns=['count', '%']\n",
    "missing.sort_values(by='count')"
   ]
  },
  {
   "cell_type": "code",
   "execution_count": 28,
   "id": "990c40c4",
   "metadata": {},
   "outputs": [
    {
     "name": "stderr",
     "output_type": "stream",
     "text": [
      "<ipython-input-28-37c0da92e112>:2: UserWarning: Boolean Series key will be reindexed to match DataFrame index.\n",
      "  len(features[features['bedrooms'].isnull()][features['beds'].isnull()])\n"
     ]
    },
    {
     "data": {
      "text/plain": [
       "10"
      ]
     },
     "execution_count": 28,
     "metadata": {},
     "output_type": "execute_result"
    }
   ],
   "source": [
    "# find how many are missing both beds and bedrooms \n",
    "len(features[features['bedrooms'].isnull()][features['beds'].isnull()])"
   ]
  },
  {
   "cell_type": "code",
   "execution_count": 29,
   "id": "12204f89",
   "metadata": {},
   "outputs": [
    {
     "name": "stderr",
     "output_type": "stream",
     "text": [
      "<ipython-input-29-db51e0be3924>:2: UserWarning: Boolean Series key will be reindexed to match DataFrame index.\n",
      "  features[features['bedrooms'].isnull()][features['beds'].isnull()]\n"
     ]
    },
    {
     "data": {
      "text/html": [
       "<div>\n",
       "<style scoped>\n",
       "    .dataframe tbody tr th:only-of-type {\n",
       "        vertical-align: middle;\n",
       "    }\n",
       "\n",
       "    .dataframe tbody tr th {\n",
       "        vertical-align: top;\n",
       "    }\n",
       "\n",
       "    .dataframe thead th {\n",
       "        text-align: right;\n",
       "    }\n",
       "</style>\n",
       "<table border=\"1\" class=\"dataframe\">\n",
       "  <thead>\n",
       "    <tr style=\"text-align: right;\">\n",
       "      <th></th>\n",
       "      <th>name</th>\n",
       "      <th>price</th>\n",
       "      <th>neighbourhood_cleansed</th>\n",
       "      <th>room_type</th>\n",
       "      <th>minimum_nights</th>\n",
       "      <th>accommodates</th>\n",
       "      <th>bedrooms</th>\n",
       "      <th>beds</th>\n",
       "      <th>bathroom_count</th>\n",
       "      <th>bathroom_type</th>\n",
       "    </tr>\n",
       "  </thead>\n",
       "  <tbody>\n",
       "    <tr>\n",
       "      <th>264</th>\n",
       "      <td>Hip Condo Near 12 South, Vanderbilt, and Downt...</td>\n",
       "      <td>74.0</td>\n",
       "      <td>District 17</td>\n",
       "      <td>Entire home/apt</td>\n",
       "      <td>2</td>\n",
       "      <td>4</td>\n",
       "      <td>NaN</td>\n",
       "      <td>NaN</td>\n",
       "      <td>1.0</td>\n",
       "      <td>bath</td>\n",
       "    </tr>\n",
       "    <tr>\n",
       "      <th>1774</th>\n",
       "      <td>Studio 154  - Riverview Suite 1 King</td>\n",
       "      <td>291.0</td>\n",
       "      <td>District 19</td>\n",
       "      <td>Private room</td>\n",
       "      <td>1</td>\n",
       "      <td>2</td>\n",
       "      <td>NaN</td>\n",
       "      <td>NaN</td>\n",
       "      <td>1.0</td>\n",
       "      <td>private bath</td>\n",
       "    </tr>\n",
       "    <tr>\n",
       "      <th>2509</th>\n",
       "      <td>Sonder The Stat | Studio Apartment</td>\n",
       "      <td>82.0</td>\n",
       "      <td>District 21</td>\n",
       "      <td>Entire home/apt</td>\n",
       "      <td>2</td>\n",
       "      <td>2</td>\n",
       "      <td>NaN</td>\n",
       "      <td>NaN</td>\n",
       "      <td>1.0</td>\n",
       "      <td>bath</td>\n",
       "    </tr>\n",
       "    <tr>\n",
       "      <th>3535</th>\n",
       "      <td>Sonder at Village 21 | Studio Apartment w/ Bal...</td>\n",
       "      <td>102.0</td>\n",
       "      <td>District 17</td>\n",
       "      <td>Entire home/apt</td>\n",
       "      <td>2</td>\n",
       "      <td>4</td>\n",
       "      <td>NaN</td>\n",
       "      <td>NaN</td>\n",
       "      <td>1.0</td>\n",
       "      <td>bath</td>\n",
       "    </tr>\n",
       "    <tr>\n",
       "      <th>3935</th>\n",
       "      <td>Historic Converted Studio AWESOME location</td>\n",
       "      <td>74.0</td>\n",
       "      <td>District 19</td>\n",
       "      <td>Entire home/apt</td>\n",
       "      <td>1</td>\n",
       "      <td>1</td>\n",
       "      <td>NaN</td>\n",
       "      <td>NaN</td>\n",
       "      <td>1.0</td>\n",
       "      <td>bath</td>\n",
       "    </tr>\n",
       "    <tr>\n",
       "      <th>4007</th>\n",
       "      <td>Clean, Comfortable &amp; Convenient Hamilton Studio</td>\n",
       "      <td>69.0</td>\n",
       "      <td>District 17</td>\n",
       "      <td>Entire home/apt</td>\n",
       "      <td>3</td>\n",
       "      <td>2</td>\n",
       "      <td>NaN</td>\n",
       "      <td>NaN</td>\n",
       "      <td>1.0</td>\n",
       "      <td>bath</td>\n",
       "    </tr>\n",
       "    <tr>\n",
       "      <th>4594</th>\n",
       "      <td>Sonder at LC SoBro | Superior Studio Apartment</td>\n",
       "      <td>99.0</td>\n",
       "      <td>District 19</td>\n",
       "      <td>Entire home/apt</td>\n",
       "      <td>2</td>\n",
       "      <td>2</td>\n",
       "      <td>NaN</td>\n",
       "      <td>NaN</td>\n",
       "      <td>1.0</td>\n",
       "      <td>bath</td>\n",
       "    </tr>\n",
       "    <tr>\n",
       "      <th>4605</th>\n",
       "      <td>Sonder at LC SoBro | Studio Apartment</td>\n",
       "      <td>81.0</td>\n",
       "      <td>District 19</td>\n",
       "      <td>Entire home/apt</td>\n",
       "      <td>2</td>\n",
       "      <td>2</td>\n",
       "      <td>NaN</td>\n",
       "      <td>NaN</td>\n",
       "      <td>1.0</td>\n",
       "      <td>bath</td>\n",
       "    </tr>\n",
       "    <tr>\n",
       "      <th>4802</th>\n",
       "      <td>Sonder Dovetail | Spacious Studio Apartment</td>\n",
       "      <td>154.0</td>\n",
       "      <td>District 19</td>\n",
       "      <td>Entire home/apt</td>\n",
       "      <td>2</td>\n",
       "      <td>4</td>\n",
       "      <td>NaN</td>\n",
       "      <td>NaN</td>\n",
       "      <td>1.0</td>\n",
       "      <td>bath</td>\n",
       "    </tr>\n",
       "    <tr>\n",
       "      <th>4808</th>\n",
       "      <td>Sonder Dovetail | Studio Apartment</td>\n",
       "      <td>113.0</td>\n",
       "      <td>District 19</td>\n",
       "      <td>Entire home/apt</td>\n",
       "      <td>2</td>\n",
       "      <td>2</td>\n",
       "      <td>NaN</td>\n",
       "      <td>NaN</td>\n",
       "      <td>1.0</td>\n",
       "      <td>bath</td>\n",
       "    </tr>\n",
       "  </tbody>\n",
       "</table>\n",
       "</div>"
      ],
      "text/plain": [
       "                                                   name  price  \\\n",
       "264   Hip Condo Near 12 South, Vanderbilt, and Downt...   74.0   \n",
       "1774               Studio 154  - Riverview Suite 1 King  291.0   \n",
       "2509                 Sonder The Stat | Studio Apartment   82.0   \n",
       "3535  Sonder at Village 21 | Studio Apartment w/ Bal...  102.0   \n",
       "3935         Historic Converted Studio AWESOME location   74.0   \n",
       "4007    Clean, Comfortable & Convenient Hamilton Studio   69.0   \n",
       "4594     Sonder at LC SoBro | Superior Studio Apartment   99.0   \n",
       "4605              Sonder at LC SoBro | Studio Apartment   81.0   \n",
       "4802        Sonder Dovetail | Spacious Studio Apartment  154.0   \n",
       "4808                 Sonder Dovetail | Studio Apartment  113.0   \n",
       "\n",
       "     neighbourhood_cleansed        room_type  minimum_nights  accommodates  \\\n",
       "264             District 17  Entire home/apt               2             4   \n",
       "1774            District 19     Private room               1             2   \n",
       "2509            District 21  Entire home/apt               2             2   \n",
       "3535            District 17  Entire home/apt               2             4   \n",
       "3935            District 19  Entire home/apt               1             1   \n",
       "4007            District 17  Entire home/apt               3             2   \n",
       "4594            District 19  Entire home/apt               2             2   \n",
       "4605            District 19  Entire home/apt               2             2   \n",
       "4802            District 19  Entire home/apt               2             4   \n",
       "4808            District 19  Entire home/apt               2             2   \n",
       "\n",
       "      bedrooms  beds  bathroom_count bathroom_type  \n",
       "264        NaN   NaN             1.0          bath  \n",
       "1774       NaN   NaN             1.0  private bath  \n",
       "2509       NaN   NaN             1.0          bath  \n",
       "3535       NaN   NaN             1.0          bath  \n",
       "3935       NaN   NaN             1.0          bath  \n",
       "4007       NaN   NaN             1.0          bath  \n",
       "4594       NaN   NaN             1.0          bath  \n",
       "4605       NaN   NaN             1.0          bath  \n",
       "4802       NaN   NaN             1.0          bath  \n",
       "4808       NaN   NaN             1.0          bath  "
      ]
     },
     "execution_count": 29,
     "metadata": {},
     "output_type": "execute_result"
    }
   ],
   "source": [
    "# print those ten\n",
    "features[features['bedrooms'].isnull()][features['beds'].isnull()]"
   ]
  },
  {
   "cell_type": "code",
   "execution_count": 30,
   "id": "44184b31",
   "metadata": {},
   "outputs": [
    {
     "name": "stderr",
     "output_type": "stream",
     "text": [
      "/Users/susannavinoba/opt/anaconda3/lib/python3.8/site-packages/pandas/core/indexing.py:1720: SettingWithCopyWarning: \n",
      "A value is trying to be set on a copy of a slice from a DataFrame.\n",
      "Try using .loc[row_indexer,col_indexer] = value instead\n",
      "\n",
      "See the caveats in the documentation: https://pandas.pydata.org/pandas-docs/stable/user_guide/indexing.html#returning-a-view-versus-a-copy\n",
      "  self._setitem_single_column(loc, value, pi)\n"
     ]
    }
   ],
   "source": [
    "# if both bed and bedroom are null neither value can be assumed replace with -1\n",
    "features.loc[features['beds'].isnull() & features['bedrooms'].isnull(), 'beds'] = -1\n",
    "features.loc[features['beds'].isnull() & features['bedrooms'].isnull(), 'bedrooms'] = -1"
   ]
  },
  {
   "cell_type": "code",
   "execution_count": 31,
   "id": "7f454907",
   "metadata": {},
   "outputs": [
    {
     "name": "stderr",
     "output_type": "stream",
     "text": [
      "<ipython-input-31-29c122a0597f>:2: UserWarning: Boolean Series key will be reindexed to match DataFrame index.\n",
      "  len(features[features['bedrooms'].isnull()][features['beds'] == 1.0])\n"
     ]
    },
    {
     "data": {
      "text/plain": [
       "142"
      ]
     },
     "execution_count": 31,
     "metadata": {},
     "output_type": "execute_result"
    }
   ],
   "source": [
    "# if bed is one then it can be assumed that bedroom should also be one\n",
    "len(features[features['bedrooms'].isnull()][features['beds'] == 1.0])"
   ]
  },
  {
   "cell_type": "code",
   "execution_count": 32,
   "id": "53fead0d",
   "metadata": {},
   "outputs": [
    {
     "name": "stderr",
     "output_type": "stream",
     "text": [
      "/Users/susannavinoba/opt/anaconda3/lib/python3.8/site-packages/pandas/core/indexing.py:1720: SettingWithCopyWarning: \n",
      "A value is trying to be set on a copy of a slice from a DataFrame.\n",
      "Try using .loc[row_indexer,col_indexer] = value instead\n",
      "\n",
      "See the caveats in the documentation: https://pandas.pydata.org/pandas-docs/stable/user_guide/indexing.html#returning-a-view-versus-a-copy\n",
      "  self._setitem_single_column(loc, value, pi)\n"
     ]
    }
   ],
   "source": [
    "#replacing it \n",
    "features.loc[features['bedrooms'].isnull() & features['beds'] == 1.0, 'bedrooms'] = 1.0"
   ]
  },
  {
   "cell_type": "code",
   "execution_count": 33,
   "id": "9a2cbe24",
   "metadata": {},
   "outputs": [
    {
     "name": "stderr",
     "output_type": "stream",
     "text": [
      "<ipython-input-33-9cf3afd2fba5>:2: UserWarning: Boolean Series key will be reindexed to match DataFrame index.\n",
      "  len(features[features['bedrooms'].isnull()][features['beds'] == '1.0'])\n"
     ]
    },
    {
     "data": {
      "text/plain": [
       "0"
      ]
     },
     "execution_count": 33,
     "metadata": {},
     "output_type": "execute_result"
    }
   ],
   "source": [
    "#check to see if it worked\n",
    "len(features[features['bedrooms'].isnull()][features['beds'] == '1.0'])"
   ]
  },
  {
   "cell_type": "code",
   "execution_count": 34,
   "id": "d15ad759",
   "metadata": {},
   "outputs": [
    {
     "name": "stderr",
     "output_type": "stream",
     "text": [
      "<ipython-input-34-2ce82d3594c5>:2: UserWarning: Boolean Series key will be reindexed to match DataFrame index.\n",
      "  len(features[features['bedrooms'].isnull()][features['beds'].isnull()])\n"
     ]
    },
    {
     "data": {
      "text/plain": [
       "0"
      ]
     },
     "execution_count": 34,
     "metadata": {},
     "output_type": "execute_result"
    }
   ],
   "source": [
    "#check to see how remaining null values in features for beds, bedrooms and (beds and bedrooms)\n",
    "len(features[features['bedrooms'].isnull()][features['beds'].isnull()])"
   ]
  },
  {
   "cell_type": "code",
   "execution_count": 35,
   "id": "67337fb7",
   "metadata": {},
   "outputs": [
    {
     "data": {
      "text/plain": [
       "0"
      ]
     },
     "execution_count": 35,
     "metadata": {},
     "output_type": "execute_result"
    }
   ],
   "source": [
    "len(features[features['bedrooms'].isnull()])"
   ]
  },
  {
   "cell_type": "code",
   "execution_count": 36,
   "id": "588f59db",
   "metadata": {},
   "outputs": [
    {
     "data": {
      "text/plain": [
       "36"
      ]
     },
     "execution_count": 36,
     "metadata": {},
     "output_type": "execute_result"
    }
   ],
   "source": [
    "len(features[features['beds'].isnull()])"
   ]
  },
  {
   "cell_type": "markdown",
   "id": "81cdacfb",
   "metadata": {},
   "source": [
    "Deal with missing bed values "
   ]
  },
  {
   "cell_type": "code",
   "execution_count": 37,
   "id": "81f71da4",
   "metadata": {},
   "outputs": [
    {
     "data": {
      "text/html": [
       "<div>\n",
       "<style scoped>\n",
       "    .dataframe tbody tr th:only-of-type {\n",
       "        vertical-align: middle;\n",
       "    }\n",
       "\n",
       "    .dataframe tbody tr th {\n",
       "        vertical-align: top;\n",
       "    }\n",
       "\n",
       "    .dataframe thead th {\n",
       "        text-align: right;\n",
       "    }\n",
       "</style>\n",
       "<table border=\"1\" class=\"dataframe\">\n",
       "  <thead>\n",
       "    <tr style=\"text-align: right;\">\n",
       "      <th></th>\n",
       "      <th>name</th>\n",
       "      <th>price</th>\n",
       "      <th>neighbourhood_cleansed</th>\n",
       "      <th>room_type</th>\n",
       "      <th>minimum_nights</th>\n",
       "      <th>accommodates</th>\n",
       "      <th>bedrooms</th>\n",
       "      <th>beds</th>\n",
       "      <th>bathroom_count</th>\n",
       "      <th>bathroom_type</th>\n",
       "    </tr>\n",
       "  </thead>\n",
       "  <tbody>\n",
       "    <tr>\n",
       "      <th>156</th>\n",
       "      <td>Beautiful Victorian in heart of 5 points/downtown</td>\n",
       "      <td>306.0</td>\n",
       "      <td>District 6</td>\n",
       "      <td>Entire home/apt</td>\n",
       "      <td>2</td>\n",
       "      <td>8</td>\n",
       "      <td>3.0</td>\n",
       "      <td>NaN</td>\n",
       "      <td>2.5</td>\n",
       "      <td>bath</td>\n",
       "    </tr>\n",
       "    <tr>\n",
       "      <th>207</th>\n",
       "      <td>Charming flat in heart of Nashville, Sylvan Park</td>\n",
       "      <td>120.0</td>\n",
       "      <td>District 24</td>\n",
       "      <td>Entire home/apt</td>\n",
       "      <td>1</td>\n",
       "      <td>3</td>\n",
       "      <td>1.0</td>\n",
       "      <td>NaN</td>\n",
       "      <td>1.0</td>\n",
       "      <td>bath</td>\n",
       "    </tr>\n",
       "    <tr>\n",
       "      <th>785</th>\n",
       "      <td>Modern Space in Scenic Neighborhood</td>\n",
       "      <td>75.0</td>\n",
       "      <td>District 23</td>\n",
       "      <td>Entire home/apt</td>\n",
       "      <td>30</td>\n",
       "      <td>4</td>\n",
       "      <td>1.0</td>\n",
       "      <td>NaN</td>\n",
       "      <td>1.0</td>\n",
       "      <td>bath</td>\n",
       "    </tr>\n",
       "    <tr>\n",
       "      <th>2266</th>\n",
       "      <td>Private guest room and bathroom in East Nash home</td>\n",
       "      <td>71.0</td>\n",
       "      <td>District 5</td>\n",
       "      <td>Private room</td>\n",
       "      <td>1</td>\n",
       "      <td>2</td>\n",
       "      <td>1.0</td>\n",
       "      <td>NaN</td>\n",
       "      <td>1.0</td>\n",
       "      <td>private bath</td>\n",
       "    </tr>\n",
       "    <tr>\n",
       "      <th>2810</th>\n",
       "      <td>Cozy Nashville Room/Newly Remodeled Near Opryland</td>\n",
       "      <td>49.0</td>\n",
       "      <td>District 15</td>\n",
       "      <td>Private room</td>\n",
       "      <td>30</td>\n",
       "      <td>1</td>\n",
       "      <td>1.0</td>\n",
       "      <td>NaN</td>\n",
       "      <td>1.0</td>\n",
       "      <td>shared bath</td>\n",
       "    </tr>\n",
       "    <tr>\n",
       "      <th>2922</th>\n",
       "      <td>90% off hotel prices</td>\n",
       "      <td>30.0</td>\n",
       "      <td>District 33</td>\n",
       "      <td>Private room</td>\n",
       "      <td>30</td>\n",
       "      <td>1</td>\n",
       "      <td>1.0</td>\n",
       "      <td>NaN</td>\n",
       "      <td>1.0</td>\n",
       "      <td>shared bath</td>\n",
       "    </tr>\n",
       "    <tr>\n",
       "      <th>2980</th>\n",
       "      <td>Master bedroom/ en suite</td>\n",
       "      <td>35.0</td>\n",
       "      <td>District 33</td>\n",
       "      <td>Private room</td>\n",
       "      <td>30</td>\n",
       "      <td>1</td>\n",
       "      <td>4.0</td>\n",
       "      <td>NaN</td>\n",
       "      <td>3.0</td>\n",
       "      <td>shared bath</td>\n",
       "    </tr>\n",
       "    <tr>\n",
       "      <th>3307</th>\n",
       "      <td>Sonder Belcourt | Two-Bedroom Apartment w/ Bal...</td>\n",
       "      <td>148.0</td>\n",
       "      <td>District 18</td>\n",
       "      <td>Entire home/apt</td>\n",
       "      <td>2</td>\n",
       "      <td>6</td>\n",
       "      <td>2.0</td>\n",
       "      <td>NaN</td>\n",
       "      <td>2.0</td>\n",
       "      <td>bath</td>\n",
       "    </tr>\n",
       "    <tr>\n",
       "      <th>3401</th>\n",
       "      <td>Sonder The Saddlery | Two-Bedroom Apartment</td>\n",
       "      <td>302.0</td>\n",
       "      <td>District 19</td>\n",
       "      <td>Entire home/apt</td>\n",
       "      <td>2</td>\n",
       "      <td>6</td>\n",
       "      <td>2.0</td>\n",
       "      <td>NaN</td>\n",
       "      <td>1.5</td>\n",
       "      <td>bath</td>\n",
       "    </tr>\n",
       "    <tr>\n",
       "      <th>3402</th>\n",
       "      <td>Sonder The Saddlery | Superior Two-Bedroom Apa...</td>\n",
       "      <td>270.0</td>\n",
       "      <td>District 19</td>\n",
       "      <td>Entire home/apt</td>\n",
       "      <td>2</td>\n",
       "      <td>6</td>\n",
       "      <td>2.0</td>\n",
       "      <td>NaN</td>\n",
       "      <td>1.5</td>\n",
       "      <td>bath</td>\n",
       "    </tr>\n",
       "  </tbody>\n",
       "</table>\n",
       "</div>"
      ],
      "text/plain": [
       "                                                   name  price  \\\n",
       "156   Beautiful Victorian in heart of 5 points/downtown  306.0   \n",
       "207    Charming flat in heart of Nashville, Sylvan Park  120.0   \n",
       "785                 Modern Space in Scenic Neighborhood   75.0   \n",
       "2266  Private guest room and bathroom in East Nash home   71.0   \n",
       "2810  Cozy Nashville Room/Newly Remodeled Near Opryland   49.0   \n",
       "2922                               90% off hotel prices   30.0   \n",
       "2980                           Master bedroom/ en suite   35.0   \n",
       "3307  Sonder Belcourt | Two-Bedroom Apartment w/ Bal...  148.0   \n",
       "3401        Sonder The Saddlery | Two-Bedroom Apartment  302.0   \n",
       "3402  Sonder The Saddlery | Superior Two-Bedroom Apa...  270.0   \n",
       "\n",
       "     neighbourhood_cleansed        room_type  minimum_nights  accommodates  \\\n",
       "156              District 6  Entire home/apt               2             8   \n",
       "207             District 24  Entire home/apt               1             3   \n",
       "785             District 23  Entire home/apt              30             4   \n",
       "2266             District 5     Private room               1             2   \n",
       "2810            District 15     Private room              30             1   \n",
       "2922            District 33     Private room              30             1   \n",
       "2980            District 33     Private room              30             1   \n",
       "3307            District 18  Entire home/apt               2             6   \n",
       "3401            District 19  Entire home/apt               2             6   \n",
       "3402            District 19  Entire home/apt               2             6   \n",
       "\n",
       "      bedrooms  beds  bathroom_count bathroom_type  \n",
       "156        3.0   NaN             2.5          bath  \n",
       "207        1.0   NaN             1.0          bath  \n",
       "785        1.0   NaN             1.0          bath  \n",
       "2266       1.0   NaN             1.0  private bath  \n",
       "2810       1.0   NaN             1.0   shared bath  \n",
       "2922       1.0   NaN             1.0   shared bath  \n",
       "2980       4.0   NaN             3.0   shared bath  \n",
       "3307       2.0   NaN             2.0          bath  \n",
       "3401       2.0   NaN             1.5          bath  \n",
       "3402       2.0   NaN             1.5          bath  "
      ]
     },
     "execution_count": 37,
     "metadata": {},
     "output_type": "execute_result"
    }
   ],
   "source": [
    "# view the first 5 missing bedroom & entire house \n",
    "features[features['beds'].isnull()].head(10)"
   ]
  },
  {
   "cell_type": "code",
   "execution_count": 38,
   "id": "e2ea13c2",
   "metadata": {},
   "outputs": [
    {
     "name": "stderr",
     "output_type": "stream",
     "text": [
      "/Users/susannavinoba/opt/anaconda3/lib/python3.8/site-packages/pandas/core/indexing.py:1720: SettingWithCopyWarning: \n",
      "A value is trying to be set on a copy of a slice from a DataFrame.\n",
      "Try using .loc[row_indexer,col_indexer] = value instead\n",
      "\n",
      "See the caveats in the documentation: https://pandas.pydata.org/pandas-docs/stable/user_guide/indexing.html#returning-a-view-versus-a-copy\n",
      "  self._setitem_single_column(loc, value, pi)\n"
     ]
    }
   ],
   "source": [
    "# since there is not much information... best not to assume bed count change null values to -1\n",
    "features.loc[features['beds'].isnull(), 'beds'] = -1.0"
   ]
  },
  {
   "cell_type": "code",
   "execution_count": 39,
   "id": "f105428a",
   "metadata": {},
   "outputs": [
    {
     "data": {
      "text/html": [
       "<div>\n",
       "<style scoped>\n",
       "    .dataframe tbody tr th:only-of-type {\n",
       "        vertical-align: middle;\n",
       "    }\n",
       "\n",
       "    .dataframe tbody tr th {\n",
       "        vertical-align: top;\n",
       "    }\n",
       "\n",
       "    .dataframe thead th {\n",
       "        text-align: right;\n",
       "    }\n",
       "</style>\n",
       "<table border=\"1\" class=\"dataframe\">\n",
       "  <thead>\n",
       "    <tr style=\"text-align: right;\">\n",
       "      <th></th>\n",
       "      <th>count</th>\n",
       "      <th>%</th>\n",
       "    </tr>\n",
       "  </thead>\n",
       "  <tbody>\n",
       "    <tr>\n",
       "      <th>name</th>\n",
       "      <td>0</td>\n",
       "      <td>0.0</td>\n",
       "    </tr>\n",
       "    <tr>\n",
       "      <th>price</th>\n",
       "      <td>0</td>\n",
       "      <td>0.0</td>\n",
       "    </tr>\n",
       "    <tr>\n",
       "      <th>neighbourhood_cleansed</th>\n",
       "      <td>0</td>\n",
       "      <td>0.0</td>\n",
       "    </tr>\n",
       "    <tr>\n",
       "      <th>room_type</th>\n",
       "      <td>0</td>\n",
       "      <td>0.0</td>\n",
       "    </tr>\n",
       "    <tr>\n",
       "      <th>minimum_nights</th>\n",
       "      <td>0</td>\n",
       "      <td>0.0</td>\n",
       "    </tr>\n",
       "    <tr>\n",
       "      <th>accommodates</th>\n",
       "      <td>0</td>\n",
       "      <td>0.0</td>\n",
       "    </tr>\n",
       "    <tr>\n",
       "      <th>bedrooms</th>\n",
       "      <td>0</td>\n",
       "      <td>0.0</td>\n",
       "    </tr>\n",
       "    <tr>\n",
       "      <th>beds</th>\n",
       "      <td>0</td>\n",
       "      <td>0.0</td>\n",
       "    </tr>\n",
       "    <tr>\n",
       "      <th>bathroom_count</th>\n",
       "      <td>0</td>\n",
       "      <td>0.0</td>\n",
       "    </tr>\n",
       "    <tr>\n",
       "      <th>bathroom_type</th>\n",
       "      <td>0</td>\n",
       "      <td>0.0</td>\n",
       "    </tr>\n",
       "  </tbody>\n",
       "</table>\n",
       "</div>"
      ],
      "text/plain": [
       "                        count    %\n",
       "name                        0  0.0\n",
       "price                       0  0.0\n",
       "neighbourhood_cleansed      0  0.0\n",
       "room_type                   0  0.0\n",
       "minimum_nights              0  0.0\n",
       "accommodates                0  0.0\n",
       "bedrooms                    0  0.0\n",
       "beds                        0  0.0\n",
       "bathroom_count              0  0.0\n",
       "bathroom_type               0  0.0"
      ]
     },
     "execution_count": 39,
     "metadata": {},
     "output_type": "execute_result"
    }
   ],
   "source": [
    "# missing values \n",
    "missing = pd.concat([features.isnull().sum(), 100 * features.isnull().mean()], axis=1)\n",
    "missing.columns=['count', '%']\n",
    "missing.sort_values(by='count')"
   ]
  },
  {
   "cell_type": "code",
   "execution_count": 40,
   "id": "abc82be4",
   "metadata": {},
   "outputs": [
    {
     "name": "stdout",
     "output_type": "stream",
     "text": [
      "A file already exists with this name.\n",
      "\n",
      "Do you want to overwrite? (Y/N)Y\n",
      "Writing file.  \"../data/features_data_cleaned.csv\"\n"
     ]
    }
   ],
   "source": [
    "# save the data to a new csv file\n",
    "\n",
    "from library.sb_utils import save_file\n",
    "\n",
    "datapath = '../data'\n",
    "save_file(features, 'features_data_cleaned.csv', datapath)"
   ]
  },
  {
   "cell_type": "code",
   "execution_count": null,
   "id": "253840ee",
   "metadata": {},
   "outputs": [],
   "source": []
  },
  {
   "cell_type": "code",
   "execution_count": null,
   "id": "6a5e1295",
   "metadata": {},
   "outputs": [],
   "source": []
  },
  {
   "cell_type": "code",
   "execution_count": null,
   "id": "d58a61ac",
   "metadata": {},
   "outputs": [],
   "source": []
  },
  {
   "cell_type": "code",
   "execution_count": null,
   "id": "a6999afe",
   "metadata": {},
   "outputs": [],
   "source": []
  }
 ],
 "metadata": {
  "kernelspec": {
   "display_name": "Python 3",
   "language": "python",
   "name": "python3"
  },
  "language_info": {
   "codemirror_mode": {
    "name": "ipython",
    "version": 3
   },
   "file_extension": ".py",
   "mimetype": "text/x-python",
   "name": "python",
   "nbconvert_exporter": "python",
   "pygments_lexer": "ipython3",
   "version": "3.8.8"
  }
 },
 "nbformat": 4,
 "nbformat_minor": 5
}
